{
 "cells": [
  {
   "cell_type": "code",
   "execution_count": 118,
   "id": "7cf2f701",
   "metadata": {},
   "outputs": [
    {
     "name": "stdout",
     "output_type": "stream",
     "text": [
      "The autoreload extension is already loaded. To reload it, use:\n",
      "  %reload_ext autoreload\n",
      "hello !!!\n"
     ]
    }
   ],
   "source": [
    "%load_ext autoreload\n",
    "%autoreload 2\n",
    "\n",
    "from ontotransserver import OntoTransServer\n",
    "# Connect to the OntoTransServer ..\n",
    "# server = OntoTransServer('http://localhost:8000/api/v1')\n",
    "server = OntoTransServer('http://localhost/api/v1')\n",
    "print(server.say_hello())"
   ]
  },
  {
   "cell_type": "code",
   "execution_count": 146,
   "id": "455c080a",
   "metadata": {},
   "outputs": [
    {
     "name": "stdout",
     "output_type": "stream",
     "text": [
      "<ontotransserver.DataResource object at 0x00000278D94047C0>\n",
      "dataresource-5dd98603-4707-43ed-9786-5b6444997da9\n",
      "{}\n"
     ]
    }
   ],
   "source": [
    "# Create a dataResource .. \n",
    "dataResource = server.create_dataresource(downloadUrl=\"https://jpeg.org/images/jpegsystems-home.jpg\", mediaType=\"image/jpeg\")\n",
    "print(dataResource)\n",
    "print(dataResource.id)\n",
    "print(dataResource.data)"
   ]
  },
  {
   "cell_type": "code",
   "execution_count": 147,
   "id": "8c1dd5f4",
   "metadata": {},
   "outputs": [
    {
     "name": "stdout",
     "output_type": "stream",
     "text": [
      "<ontotransserver.Filter object at 0x00000278D94043A0>\n",
      "filter-940cc745-bf4a-4362-8c61-8587a603df28\n",
      "{}\n"
     ]
    }
   ],
   "source": [
    "# Create a Filter .. \n",
    "dataFilter = server.create_filter(filterType=\"filter/demo\")\n",
    "print(dataFilter)\n",
    "print(dataFilter.id)\n",
    "print(dataFilter.data)"
   ]
  },
  {
   "cell_type": "code",
   "execution_count": 148,
   "id": "481034f9",
   "metadata": {},
   "outputs": [
    {
     "name": "stdout",
     "output_type": "stream",
     "text": [
      "<ontotransserver.Transformation object at 0x00000278D9404190>\n",
      "transformation-1774939f-d0a8-4c20-9426-2a2bb0d506a5\n",
      "{}\n"
     ]
    }
   ],
   "source": [
    "# Create a Transformation .. \n",
    "transformation = server.create_transformation(transformation_type= \"script/dummy\")\n",
    "print(transformation)\n",
    "print(transformation.id)\n",
    "print(transformation.data)"
   ]
  },
  {
   "cell_type": "code",
   "execution_count": 149,
   "id": "32902903",
   "metadata": {},
   "outputs": [
    {
     "name": "stdout",
     "output_type": "stream",
     "text": [
      "<ontotransserver.Mapping object at 0x00000278D9404340>\n",
      "mapping-f2ff3caf-9339-4b20-a2f1-faf0ea836bff\n",
      "{}\n"
     ]
    }
   ],
   "source": [
    "# Create a Mapping .. \n",
    "mapping = server.create_mapping(mappingType=\"mapping/demo\")\n",
    "print(mapping)\n",
    "print(mapping.id)\n",
    "print(mapping.data)"
   ]
  },
  {
   "cell_type": "code",
   "execution_count": 153,
   "id": "c4be9f09",
   "metadata": {},
   "outputs": [
    {
     "name": "stdout",
     "output_type": "stream",
     "text": [
      "http://localhost:8000/api/v1/datasource/dataresource-5dd98603-4707-43ed-9786-5b6444997da9/read\n",
      "<ontotransserver.DataResource object at 0x00000278D94047C0>\n",
      "http://localhost:8000/api/v1/transformation/transformation-1774939f-d0a8-4c20-9426-2a2bb0d506a5\n",
      "<ontotransserver.Transformation object at 0x00000278D9404190>\n",
      "http://localhost:8000/api/v1/mapping/mapping-f2ff3caf-9339-4b20-a2f1-faf0ea836bff\n",
      "<ontotransserver.Mapping object at 0x00000278D9404340>\n",
      "http://localhost:8000/api/v1/filter/filter-940cc745-bf4a-4362-8c61-8587a603df28\n",
      "<ontotransserver.Filter object at 0x00000278D94043A0>\n",
      "b'{}'\n"
     ]
    }
   ],
   "source": [
    "pipeline = dataResource >> transformation >> mapping >> dataFilter \n",
    "# print(pipeline)\n",
    "print(pipeline.get())"
   ]
  },
  {
   "cell_type": "code",
   "execution_count": null,
   "id": "7fae8a25",
   "metadata": {},
   "outputs": [],
   "source": []
  }
 ],
 "metadata": {
  "kernelspec": {
   "display_name": "Python 3 (ipykernel)",
   "language": "python",
   "name": "python3"
  },
  "language_info": {
   "codemirror_mode": {
    "name": "ipython",
    "version": 3
   },
   "file_extension": ".py",
   "mimetype": "text/x-python",
   "name": "python",
   "nbconvert_exporter": "python",
   "pygments_lexer": "ipython3",
   "version": "3.9.4"
  }
 },
 "nbformat": 4,
 "nbformat_minor": 5
}
