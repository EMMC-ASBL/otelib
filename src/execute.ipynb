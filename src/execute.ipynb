{
 "cells": [
  {
   "cell_type": "code",
   "execution_count": 1,
   "id": "4c2817ee",
   "metadata": {},
   "outputs": [
    {
     "name": "stdout",
     "output_type": "stream",
     "text": [
      "hello !!!\n"
     ]
    }
   ],
   "source": [
    "%load_ext autoreload\n",
    "%autoreload 2\n",
    "\n",
    "from ontotransserver import OntoTransServer\n",
    "# Connect to the OntoTransServer ..\n",
    "server = OntoTransServer('http://localhost/api/v1')\n",
    "print(server.say_hello())"
   ]
  },
  {
   "cell_type": "code",
   "execution_count": 2,
   "id": "69ef1217",
   "metadata": {},
   "outputs": [
    {
     "name": "stdout",
     "output_type": "stream",
     "text": [
      "<ontotransserver.DataResource object at 0x00000278D7C481F0>\n",
      "dataresource-92299927-2b79-4736-a4ed-b7eea1cd5c44\n",
      "{}\n"
     ]
    }
   ],
   "source": [
    "# Create a dataResource .. \n",
    "dataResource = server.create_dataresource(\"https://jpeg.org/images/jpegsystems-home.jpg\", \"image/jpeg\")\n",
    "print(dataResource)\n",
    "print(dataResource.id)\n",
    "print(dataResource.data)"
   ]
  },
  {
   "cell_type": "code",
   "execution_count": 10,
   "id": "f0f30911",
   "metadata": {},
   "outputs": [
    {
     "name": "stdout",
     "output_type": "stream",
     "text": [
      "<ontotransserver.Filter object at 0x00000278D91BE5B0>\n",
      "{'filter_id': 'filter-9a1cae66-905e-4ac0-9e1e-9351cba6dc7e'}\n"
     ]
    }
   ],
   "source": [
    "# Create a Filter .. \n",
    "dataFilter = server.create_filter(\"sql_query\", \"SELECT * FROM \", \"condition\", 0, {})\n",
    "print(dataFilter)\n",
    "print(dataFilter.id)\n",
    "print(dataFilter.data)"
   ]
  },
  {
   "cell_type": "code",
   "execution_count": 7,
   "id": "663a9780",
   "metadata": {},
   "outputs": [],
   "source": [
    "# Create a Transformation .. \n",
    "transformation = server.create_transformation( \"transformation_type\", \"name\", \"description\",  \"2021-10-12T10:52:33.349Z\", 0, \"secret\", {})\n",
    "print(transformation)\n",
    "# print(transformation.id)\n",
    "print(transformation.data)"
   ]
  },
  {
   "cell_type": "code",
   "execution_count": 4,
   "id": "72d99584",
   "metadata": {},
   "outputs": [
    {
     "name": "stdout",
     "output_type": "stream",
     "text": [
      "<ontotransserver.Mapping object at 0x00000278D7BED4C0>\n",
      "mapping-443c758e-fd49-4ccd-b858-078e05918485\n",
      "{}\n"
     ]
    }
   ],
   "source": [
    "# Create a Mapping .. \n",
    "mapping = server.create_mapping(\"mappingType\", {}, [], {})\n",
    "print(mapping)\n",
    "print(mapping.id)\n",
    "print(mapping.data)"
   ]
  },
  {
   "cell_type": "code",
   "execution_count": 11,
   "id": "588d2422",
   "metadata": {},
   "outputs": [
    {
     "name": "stdout",
     "output_type": "stream",
     "text": [
      "Data\n"
     ]
    }
   ],
   "source": [
    "pipeline = dataResource >> dataFilter\n",
    "# print(pipeline)\n",
    "print(pipeline.get())"
   ]
  },
  {
   "cell_type": "code",
   "execution_count": null,
   "id": "e18a8ae8",
   "metadata": {},
   "outputs": [],
   "source": []
  }
 ],
 "metadata": {
  "kernelspec": {
   "display_name": "Python 3 (ipykernel)",
   "language": "python",
   "name": "python3"
  },
  "language_info": {
   "codemirror_mode": {
    "name": "ipython",
    "version": 3
   },
   "file_extension": ".py",
   "mimetype": "text/x-python",
   "name": "python",
   "nbconvert_exporter": "python",
   "pygments_lexer": "ipython3",
   "version": "3.9.4"
  }
 },
 "nbformat": 4,
 "nbformat_minor": 5
}
