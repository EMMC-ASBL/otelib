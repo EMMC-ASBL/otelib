{
 "cells": [
  {
   "cell_type": "code",
   "execution_count": 26,
   "id": "fc640e53",
   "metadata": {},
   "outputs": [
    {
     "name": "stdout",
     "output_type": "stream",
     "text": [
      "The autoreload extension is already loaded. To reload it, use:\n",
      "  %reload_ext autoreload\n",
      "hello !!!\n"
     ]
    }
   ],
   "source": [
    "%load_ext autoreload\n",
    "%autoreload 2\n",
    "\n",
    "from ontotransserver import OntoTransServer\n",
    "# Connect to the OntoTransServer ..\n",
    "server = OntoTransServer('http://localhost:8000/api/v1')\n",
    "# server = OntoTransServer('http://localhost/api/v1')\n",
    "print(server.say_hello())"
   ]
  },
  {
   "cell_type": "code",
   "execution_count": 27,
   "id": "35f6de76",
   "metadata": {},
   "outputs": [
    {
     "name": "stdout",
     "output_type": "stream",
     "text": [
      "<ontotransserver.DataResource object at 0x000002102E079910>\n",
      "dataresource-213cd0ee-8ca9-482a-bf58-71ca76945174\n",
      "{}\n"
     ]
    }
   ],
   "source": [
    "# Create a dataResource .. \n",
    "dataResource = server.create_dataresource(downloadUrl=\"https://jpeg.org/images/jpegsystems-home.jpg\", mediaType=\"image/jpeg\")\n",
    "print(dataResource)\n",
    "print(dataResource.id)\n",
    "print(dataResource.data)"
   ]
  },
  {
   "cell_type": "code",
   "execution_count": 28,
   "id": "25fa8bda",
   "metadata": {},
   "outputs": [
    {
     "name": "stdout",
     "output_type": "stream",
     "text": [
      "<ontotransserver.Filter object at 0x000002102E066C10>\n",
      "filter-0c8cdf27-1c2f-425f-83fa-fcb24fb7e857\n",
      "{}\n"
     ]
    }
   ],
   "source": [
    "# Create a Filter .. \n",
    "dataFilter = server.create_filter(filterType=\"filter/demo\")\n",
    "print(dataFilter)\n",
    "print(dataFilter.id)\n",
    "print(dataFilter.data)"
   ]
  },
  {
   "cell_type": "code",
   "execution_count": 29,
   "id": "9c7083e1",
   "metadata": {},
   "outputs": [
    {
     "name": "stdout",
     "output_type": "stream",
     "text": [
      "<ontotransserver.Transformation object at 0x000002102CBF6C70>\n",
      "transformation-bec20dc1-86f3-4a5f-ae07-375fa3a918be\n",
      "{}\n"
     ]
    }
   ],
   "source": [
    "# Create a Transformation .. \n",
    "transformation = server.create_transformation(transformation_type= \"script/dummy\")\n",
    "print(transformation)\n",
    "print(transformation.id)\n",
    "print(transformation.data)"
   ]
  },
  {
   "cell_type": "code",
   "execution_count": 30,
   "id": "71c2463c",
   "metadata": {},
   "outputs": [
    {
     "name": "stdout",
     "output_type": "stream",
     "text": [
      "<ontotransserver.Mapping object at 0x000002102E079970>\n",
      "mapping-db405bea-2255-4ffb-8d8e-45d33f66c1ca\n",
      "{}\n"
     ]
    }
   ],
   "source": [
    "# Create a Mapping .. \n",
    "mapping = server.create_mapping(mappingType=\"mapping/demo\")\n",
    "print(mapping)\n",
    "print(mapping.id)\n",
    "print(mapping.data)"
   ]
  },
  {
   "cell_type": "code",
   "execution_count": 34,
   "id": "8d03e31c",
   "metadata": {},
   "outputs": [],
   "source": [
    "pipeline = dataResource  >> dataFilter  >> mapping >> transformation \n",
    "# print(pipeline)\n",
    "print(pipeline.get())"
   ]
  },
  {
   "cell_type": "code",
   "execution_count": null,
   "id": "9c8dc7cf",
   "metadata": {},
   "outputs": [],
   "source": []
  }
 ],
 "metadata": {
  "kernelspec": {
   "display_name": "Python 3 (ipykernel)",
   "language": "python",
   "name": "python3"
  },
  "language_info": {
   "codemirror_mode": {
    "name": "ipython",
    "version": 3
   },
   "file_extension": ".py",
   "mimetype": "text/x-python",
   "name": "python",
   "nbconvert_exporter": "python",
   "pygments_lexer": "ipython3",
   "version": "3.9.4"
  }
 },
 "nbformat": 4,
 "nbformat_minor": 5
}
