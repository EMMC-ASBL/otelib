{
 "cells": [
  {
   "cell_type": "code",
   "execution_count": 33,
   "id": "b79c1ceb",
   "metadata": {},
   "outputs": [
    {
     "name": "stdout",
     "output_type": "stream",
     "text": [
      "The autoreload extension is already loaded. To reload it, use:\n",
      "  %reload_ext autoreload\n"
     ]
    }
   ],
   "source": [
    "%load_ext autoreload\n",
    "%autoreload 2\n",
    "\n",
    "from ontotransserver import OntoTransServer\n",
    "# Connect to the OntoTransServer ..\n",
    "server = OntoTransServer('http://localhost:8000/api/v1')\n",
    "# server = OntoTransServer('http://localhost/api/v1')"
   ]
  },
  {
   "cell_type": "code",
   "execution_count": 34,
   "id": "21b079b9",
   "metadata": {},
   "outputs": [
    {
     "name": "stdout",
     "output_type": "stream",
     "text": [
      "<ontotransserver.DataResource object at 0x000001AE20CA1490>\n",
      "dataresource-4dcde16d-d4ee-44ec-8feb-f4c380250af3\n",
      "{}\n"
     ]
    }
   ],
   "source": [
    "# Create a dataResource .. \n",
    "# dataResource = server.create_dataresource(downloadUrl=\"https://jpeg.org/images/jpegsystems-home.jpg\", mediaType=\"image/jpeg\",configuration={\"crop\": \"0,0,200,200\"})\n",
    "dataResource = server.create_dataresource(downloadUrl=\"https://jpeg.org/images/jpegsystems-home.jpg\", mediaType=\"image/jpeg\")\n",
    "print(dataResource)\n",
    "print(dataResource.id)\n",
    "print(dataResource.data)"
   ]
  },
  {
   "cell_type": "code",
   "execution_count": 35,
   "id": "78a372ea",
   "metadata": {},
   "outputs": [
    {
     "name": "stdout",
     "output_type": "stream",
     "text": [
      "<ontotransserver.Filter object at 0x000001AE20CA1EE0>\n",
      "filter-403e1d89-b8ee-43a2-bbe6-fa56eb93fdac\n",
      "{}\n"
     ]
    }
   ],
   "source": [
    "# Create a Filter .. \n",
    "# dataFilter = server.create_filter(filterType=\"filter/demo\",configuration={\"crop\": \"440,8056,668,1640\"})\n",
    "# dataFilter = server.create_filter(filterType=\"filter/crop\",configuration={\"crop\": [0,0,200,200]})\n",
    "dataFilter = server.create_filter(filterType=\"filter/demo\")\n",
    "print(dataFilter)\n",
    "print(dataFilter.id)\n",
    "print(dataFilter.data)"
   ]
  },
  {
   "cell_type": "code",
   "execution_count": 43,
   "id": "e4be2223",
   "metadata": {},
   "outputs": [
    {
     "name": "stdout",
     "output_type": "stream",
     "text": [
      "<ontotransserver.Transformation object at 0x000001AE20C8FBB0>\n",
      "transformation-da647bb0-937a-45af-984e-11cd29c036a1\n",
      "{}\n"
     ]
    }
   ],
   "source": [
    "# Create a Transformation .. \n",
    "transformation = server.create_transformation(transformation_type= \"script/dummy\")\n",
    "# transformation = server.create_transformation(transformation_type= \"dlite/transformation\")\n",
    "print(transformation)\n",
    "print(transformation.id)\n",
    "print(transformation.data)"
   ]
  },
  {
   "cell_type": "code",
   "execution_count": 37,
   "id": "0ab4fbb2",
   "metadata": {},
   "outputs": [
    {
     "name": "stdout",
     "output_type": "stream",
     "text": [
      "<ontotransserver.Mapping object at 0x000001AE20CA12B0>\n",
      "mapping-51c6fc52-2515-40d5-8ea2-116527ed0e1c\n",
      "{}\n"
     ]
    }
   ],
   "source": [
    "# Create a Mapping .. \n",
    "mapping = server.create_mapping(mappingType=\"mapping/demo\")\n",
    "print(mapping)\n",
    "print(mapping.id)\n",
    "print(mapping.data)"
   ]
  },
  {
   "cell_type": "code",
   "execution_count": 44,
   "id": "9f027b09",
   "metadata": {},
   "outputs": [
    {
     "name": "stdout",
     "output_type": "stream",
     "text": [
      "session-bdf7b3e2-489b-4a4a-9d4a-f4d976012dfc\n",
      "b'{\"transformation\":\"test\"}'\n"
     ]
    }
   ],
   "source": [
    "pipeline = dataResource  >> dataFilter  >> transformation\n",
    "# print(pipeline)\n",
    "print(pipeline.get())"
   ]
  },
  {
   "cell_type": "code",
   "execution_count": 42,
   "id": "e6d0c035",
   "metadata": {},
   "outputs": [
    {
     "name": "stdout",
     "output_type": "stream",
     "text": [
      "session-26b2b439-8bb4-46c1-9e7c-e644190e9f96\n"
     ]
    },
    {
     "data": {
      "text/plain": [
       "b'{}'"
      ]
     },
     "execution_count": 42,
     "metadata": {},
     "output_type": "execute_result"
    }
   ],
   "source": [
    "pipeline = dataResource  >> dataFilter  >> mapping >> transformation \n",
    "pipeline.get()"
   ]
  },
  {
   "cell_type": "code",
   "execution_count": null,
   "id": "572b1ce9",
   "metadata": {},
   "outputs": [],
   "source": []
  }
 ],
 "metadata": {
  "kernelspec": {
   "display_name": "Python 3 (ipykernel)",
   "language": "python",
   "name": "python3"
  },
  "language_info": {
   "codemirror_mode": {
    "name": "ipython",
    "version": 3
   },
   "file_extension": ".py",
   "mimetype": "text/x-python",
   "name": "python",
   "nbconvert_exporter": "python",
   "pygments_lexer": "ipython3",
   "version": "3.9.4"
  }
 },
 "nbformat": 4,
 "nbformat_minor": 5
}
