{
 "cells": [
  {
   "cell_type": "code",
   "execution_count": 15,
   "id": "676761db",
   "metadata": {},
   "outputs": [
    {
     "name": "stdout",
     "output_type": "stream",
     "text": [
      "The autoreload extension is already loaded. To reload it, use:\n",
      "  %reload_ext autoreload\n",
      "hello !!!\n"
     ]
    }
   ],
   "source": [
    "%load_ext autoreload\n",
    "%autoreload 2\n",
    "\n",
    "from ontotransserver import OntoTransServer\n",
    "# Connect to the OntoTransServer ..\n",
    "server = OntoTransServer('http://localhost/api/v1')\n",
    "print(server.say_hello())"
   ]
  },
  {
   "cell_type": "code",
   "execution_count": 25,
   "id": "4a9575e4",
   "metadata": {},
   "outputs": [
    {
     "name": "stdout",
     "output_type": "stream",
     "text": [
      "<ontotransserver.DataResource object at 0x00000278D91B34F0>\n",
      "dataresource-4a021828-40ef-48fc-b3eb-6595b8ce9b69\n",
      "{}\n"
     ]
    }
   ],
   "source": [
    "# Create a dataResource .. \n",
    "dataResource = server.create_dataresource(downloadUrl=\"https://jpeg.org/images/jpegsystems-home.jpg\", mediaType=\"image/jpeg\")\n",
    "print(dataResource)\n",
    "print(dataResource.id)\n",
    "print(dataResource.data)"
   ]
  },
  {
   "cell_type": "code",
   "execution_count": 22,
   "id": "8e688c10",
   "metadata": {},
   "outputs": [
    {
     "name": "stdout",
     "output_type": "stream",
     "text": [
      "filterType='sql_query' query=None condition=None limit=None configuration=None\n",
      "{'filterType': 'sql_query', 'query': None, 'condition': None, 'limit': None, 'configuration': None}\n",
      "<ontotransserver.Filter object at 0x00000278D9231A90>\n",
      "filter-112c751e-74e9-4db6-8080-178080b47a6a\n",
      "{}\n"
     ]
    }
   ],
   "source": [
    "# Create a Filter .. \n",
    "# dataFilter = server.create_filter(\"sql_query\", \"SELECT * FROM \", \"condition\", 0, {})\n",
    "dataFilter = server.create_filter(filterType=\"sql_query\")\n",
    "print(dataFilter)\n",
    "print(dataFilter.id)\n",
    "print(dataFilter.data)"
   ]
  },
  {
   "cell_type": "code",
   "execution_count": 24,
   "id": "d58df3e0",
   "metadata": {},
   "outputs": [
    {
     "name": "stderr",
     "output_type": "stream",
     "text": [
      "[autoreload of models failed: Traceback (most recent call last):\n",
      "  File \"c:\\users\\treesaj\\appdata\\local\\programs\\python\\python39\\lib\\site-packages\\IPython\\extensions\\autoreload.py\", line 245, in check\n",
      "    superreload(m, reload, self.old_objects)\n",
      "  File \"c:\\users\\treesaj\\appdata\\local\\programs\\python\\python39\\lib\\site-packages\\IPython\\extensions\\autoreload.py\", line 410, in superreload\n",
      "    update_generic(old_obj, new_obj)\n",
      "  File \"c:\\users\\treesaj\\appdata\\local\\programs\\python\\python39\\lib\\site-packages\\IPython\\extensions\\autoreload.py\", line 347, in update_generic\n",
      "    update(a, b)\n",
      "  File \"c:\\users\\treesaj\\appdata\\local\\programs\\python\\python39\\lib\\site-packages\\IPython\\extensions\\autoreload.py\", line 317, in update_class\n",
      "    update_instances(old, new)\n",
      "  File \"c:\\users\\treesaj\\appdata\\local\\programs\\python\\python39\\lib\\site-packages\\IPython\\extensions\\autoreload.py\", line 280, in update_instances\n",
      "    ref.__class__ = new\n",
      "  File \"pydantic\\main.py\", line 422, in pydantic.main.BaseModel.__setattr__\n",
      "ValueError: \"FilterConfig\" object has no field \"__class__\"\n",
      "]\n"
     ]
    },
    {
     "name": "stdout",
     "output_type": "stream",
     "text": [
      "<ontotransserver.Transformation object at 0x00000278D7BD35B0>\n",
      "{}\n"
     ]
    }
   ],
   "source": [
    "# Create a Transformation .. \n",
    "transformation = server.create_transformation(transformation_type= \"transformation_type\")\n",
    "print(transformation)\n",
    "# print(transformation.id)\n",
    "print(transformation.data)"
   ]
  },
  {
   "cell_type": "code",
   "execution_count": 23,
   "id": "5f965867",
   "metadata": {},
   "outputs": [
    {
     "name": "stdout",
     "output_type": "stream",
     "text": [
      "<ontotransserver.Mapping object at 0x00000278D91A3850>\n",
      "mapping-78b98a74-081b-4a7d-ab4f-678ff7bd0c61\n",
      "{}\n"
     ]
    }
   ],
   "source": [
    "# Create a Mapping .. \n",
    "# mapping = server.create_mapping(\"mappingType\", {}, [], {})\n",
    "mapping = server.create_mapping(mappingType=\"mappingType\")\n",
    "print(mapping)\n",
    "print(mapping.id)\n",
    "print(mapping.data)"
   ]
  },
  {
   "cell_type": "code",
   "execution_count": 12,
   "id": "d123840c",
   "metadata": {},
   "outputs": [
    {
     "name": "stdout",
     "output_type": "stream",
     "text": [
      "Data\n"
     ]
    }
   ],
   "source": [
    "pipeline = dataResource >> dataFilter\n",
    "# print(pipeline)\n",
    "print(pipeline.get())"
   ]
  },
  {
   "cell_type": "code",
   "execution_count": null,
   "id": "51e35c19",
   "metadata": {},
   "outputs": [],
   "source": []
  }
 ],
 "metadata": {
  "kernelspec": {
   "display_name": "Python 3 (ipykernel)",
   "language": "python",
   "name": "python3"
  },
  "language_info": {
   "codemirror_mode": {
    "name": "ipython",
    "version": 3
   },
   "file_extension": ".py",
   "mimetype": "text/x-python",
   "name": "python",
   "nbconvert_exporter": "python",
   "pygments_lexer": "ipython3",
   "version": "3.9.4"
  }
 },
 "nbformat": 4,
 "nbformat_minor": 5
}
