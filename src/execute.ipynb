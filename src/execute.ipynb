{
 "cells": [
  {
   "cell_type": "code",
   "execution_count": 1,
   "id": "660e7362",
   "metadata": {},
   "outputs": [],
   "source": [
    "%load_ext autoreload\n",
    "%autoreload 2\n",
    "\n",
    "from ontotransserver import OntoTransServer\n",
    "# Connect to the OntoTransServer ..\n",
    "server = OntoTransServer('http://localhost:8000/api/v1')\n",
    "# server = OntoTransServer('http://localhost/api/v1')"
   ]
  },
  {
   "cell_type": "code",
   "execution_count": 2,
   "id": "1fd7159c",
   "metadata": {},
   "outputs": [
    {
     "name": "stdout",
     "output_type": "stream",
     "text": [
      "<ontotransserver.DataResource object at 0x000001563B8C9E20>\n",
      "dataresource-75aa4e58-6683-42a2-ac2a-3888b2483ef0\n",
      "{}\n"
     ]
    }
   ],
   "source": [
    "# Create a dataResource .. \n",
    "# dataResource = server.create_dataresource(downloadUrl=\"https://jpeg.org/images/jpegsystems-home.jpg\", mediaType=\"image/jpeg\",configuration={\"crop\": \"0,0,200,200\"})\n",
    "dataResource = server.create_dataresource(downloadUrl=\"https://jpeg.org/images/jpegsystems-home.jpg\", mediaType=\"image/jpeg\")\n",
    "print(dataResource)\n",
    "print(dataResource.id)\n",
    "print(dataResource.data)"
   ]
  },
  {
   "cell_type": "code",
   "execution_count": 3,
   "id": "ab07106b",
   "metadata": {},
   "outputs": [
    {
     "name": "stdout",
     "output_type": "stream",
     "text": [
      "<ontotransserver.Filter object at 0x000001563BD40E20>\n",
      "filter-063fc8bb-cbb1-41a6-a9cd-c590607a85eb\n",
      "{}\n"
     ]
    }
   ],
   "source": [
    "# Create a Filter .. \n",
    "dataFilter = server.create_filter(filterType=\"filter/compevo-crop\",configuration={\"crop\": [0,0,200,200]})\n",
    "# dataFilter = server.create_filter(filterType=\"filter/demo\")\n",
    "print(dataFilter)\n",
    "print(dataFilter.id)\n",
    "print(dataFilter.data)"
   ]
  },
  {
   "cell_type": "code",
   "execution_count": 4,
   "id": "9745c42d",
   "metadata": {},
   "outputs": [
    {
     "name": "stdout",
     "output_type": "stream",
     "text": [
      "<ontotransserver.Transformation object at 0x000001563BD40460>\n",
      "transformation-fc7d4b53-a0ce-480b-beec-46af0750f28b\n",
      "{}\n"
     ]
    }
   ],
   "source": [
    "# Create a Transformation .. \n",
    "transformation = server.create_transformation(transformation_type= \"script/dummy\")\n",
    "# transformation = server.create_transformation(transformation_type= \"dlite/transformation\")\n",
    "print(transformation)\n",
    "print(transformation.id)\n",
    "print(transformation.data)"
   ]
  },
  {
   "cell_type": "code",
   "execution_count": 5,
   "id": "6fbfba5b",
   "metadata": {},
   "outputs": [
    {
     "name": "stdout",
     "output_type": "stream",
     "text": [
      "<ontotransserver.Mapping object at 0x000001563BD405B0>\n",
      "mapping-e4bd38b7-b375-443b-8365-e4a2cd1f4760\n",
      "{}\n"
     ]
    }
   ],
   "source": [
    "# Create a Mapping .. \n",
    "mapping = server.create_mapping(mappingType=\"mapping/demo\")\n",
    "print(mapping)\n",
    "print(mapping.id)\n",
    "print(mapping.data)"
   ]
  },
  {
   "cell_type": "code",
   "execution_count": 6,
   "id": "c8913de2",
   "metadata": {},
   "outputs": [
    {
     "name": "stdout",
     "output_type": "stream",
     "text": [
      "session-4e1488d3-f5fd-4353-be5e-e45bbac46abc\n",
      "b'{}'\n"
     ]
    }
   ],
   "source": [
    "pipeline = dataResource  >> dataFilter  >> transformation\n",
    "# print(pipeline)\n",
    "print(pipeline.get())"
   ]
  },
  {
   "cell_type": "code",
   "execution_count": 7,
   "id": "b15f64d6",
   "metadata": {},
   "outputs": [
    {
     "name": "stdout",
     "output_type": "stream",
     "text": [
      "session-17e5a0ea-027f-4c2c-8715-9bfa9a0aa6c1\n"
     ]
    },
    {
     "data": {
      "text/plain": [
       "b'{}'"
      ]
     },
     "execution_count": 7,
     "metadata": {},
     "output_type": "execute_result"
    }
   ],
   "source": [
    "pipeline = dataResource  >> dataFilter  >> mapping >> transformation \n",
    "pipeline.get()"
   ]
  },
  {
   "cell_type": "code",
   "execution_count": null,
   "id": "f59f19d3",
   "metadata": {},
   "outputs": [],
   "source": []
  }
 ],
 "metadata": {
  "kernelspec": {
   "display_name": "Python 3 (ipykernel)",
   "language": "python",
   "name": "python3"
  },
  "language_info": {
   "codemirror_mode": {
    "name": "ipython",
    "version": 3
   },
   "file_extension": ".py",
   "mimetype": "text/x-python",
   "name": "python",
   "nbconvert_exporter": "python",
   "pygments_lexer": "ipython3",
   "version": "3.9.4"
  }
 },
 "nbformat": 4,
 "nbformat_minor": 5
}
