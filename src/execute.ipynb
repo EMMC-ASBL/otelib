{
 "cells": [
  {
   "cell_type": "code",
   "execution_count": 72,
   "id": "6df2108d",
   "metadata": {},
   "outputs": [
    {
     "name": "stdout",
     "output_type": "stream",
     "text": [
      "The autoreload extension is already loaded. To reload it, use:\n",
      "  %reload_ext autoreload\n",
      "hello !!!\n"
     ]
    }
   ],
   "source": [
    "%load_ext autoreload\n",
    "%autoreload 2\n",
    "\n",
    "from ontotransserver import OntoTransServer\n",
    "# Connect to the OntoTransServer ..\n",
    "server = OntoTransServer('http://localhost/api/v1')\n",
    "print(server.say_hello())"
   ]
  },
  {
   "cell_type": "code",
   "execution_count": 73,
   "id": "3a3444c5",
   "metadata": {},
   "outputs": [
    {
     "name": "stdout",
     "output_type": "stream",
     "text": [
      "<ontotransserver.DataResource object at 0x000001C69C711A00>\n",
      "dataresource-81e9d1e7-1dc0-4b3f-a8f3-53fa15f9c937\n",
      "{}\n"
     ]
    }
   ],
   "source": [
    "# Create a dataResource .. \n",
    "dataResource = server.create_dataresource(\"https://jpeg.org/images/jpegsystems-home.jpg\", \"image/jpeg\")\n",
    "print(dataResource)\n",
    "print(dataResource.id)\n",
    "print(dataResource.data)"
   ]
  },
  {
   "cell_type": "code",
   "execution_count": 74,
   "id": "d072c4b0",
   "metadata": {},
   "outputs": [
    {
     "name": "stdout",
     "output_type": "stream",
     "text": [
      "<ontotransserver.Filter object at 0x000001C69C711520>\n",
      "{'status': 'ok'}\n"
     ]
    }
   ],
   "source": [
    "# Create a Filter .. \n",
    "dataFilter = server.create_filter(\"sql_query\", \"SELECT * FROM \", \"condition\", 0, {})\n",
    "print(dataFilter)\n",
    "# print(dataFilter.id)\n",
    "print(dataFilter.data)"
   ]
  },
  {
   "cell_type": "code",
   "execution_count": 7,
   "id": "4c0a0246",
   "metadata": {},
   "outputs": [],
   "source": [
    "# Create a Transformation .. \n",
    "transformation = server.create_transformation( \"transformation_type\", \"name\", \"description\",  \"2021-10-12T10:52:33.349Z\", 0, \"secret\", {})\n",
    "print(transformation)\n",
    "# print(transformation.id)\n",
    "print(transformation.data)"
   ]
  },
  {
   "cell_type": "code",
   "execution_count": 75,
   "id": "69126f71",
   "metadata": {},
   "outputs": [
    {
     "name": "stdout",
     "output_type": "stream",
     "text": [
      "<ontotransserver.Mapping object at 0x000001C69C711790>\n",
      "{'status': 'ok'}\n"
     ]
    }
   ],
   "source": [
    "# Create a Mapping .. \n",
    "mapping = server.create_mapping(\"mappingType\", {}, [], {})\n",
    "print(mapping)\n",
    "# print(mapping.id)\n",
    "print(mapping.data)"
   ]
  },
  {
   "cell_type": "code",
   "execution_count": 76,
   "id": "3e5fb1ac",
   "metadata": {},
   "outputs": [
    {
     "name": "stdout",
     "output_type": "stream",
     "text": [
      "{'status': 'ok'}\n",
      "{}\n",
      "Data\n"
     ]
    }
   ],
   "source": [
    "pipeline = dataResource >> dataFilter\n",
    "# print(pipeline)\n",
    "print(pipeline.get())"
   ]
  }
 ],
 "metadata": {
  "kernelspec": {
   "display_name": "Python 3 (ipykernel)",
   "language": "python",
   "name": "python3"
  },
  "language_info": {
   "codemirror_mode": {
    "name": "ipython",
    "version": 3
   },
   "file_extension": ".py",
   "mimetype": "text/x-python",
   "name": "python",
   "nbconvert_exporter": "python",
   "pygments_lexer": "ipython3",
   "version": "3.9.4"
  }
 },
 "nbformat": 4,
 "nbformat_minor": 5
}
