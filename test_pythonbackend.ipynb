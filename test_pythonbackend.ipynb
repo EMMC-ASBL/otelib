{
 "cells": [
  {
   "cell_type": "code",
   "execution_count": 1,
   "metadata": {},
   "outputs": [],
   "source": [
    "from otelib import OTEClient\n",
    "client = OTEClient('python')\n",
    "\n",
    "\n",
    "from oteapi.plugins import load_strategies\n",
    "load_strategies()"
   ]
  },
  {
   "cell_type": "code",
   "execution_count": 2,
   "metadata": {},
   "outputs": [
    {
     "name": "stdout",
     "output_type": "stream",
     "text": [
      "dataresource-a3bef75f-b5de-4692-8f25-a95c8c382c60\n"
     ]
    },
    {
     "data": {
      "text/plain": [
       "AttrDict(image_info={'jfif': 257, 'jfif_version': (1, 1), 'dpi': (72, 72), 'jfif_unit': 1, 'jfif_density': (72, 72), 'progressive': 1, 'progression': 1}, image_mode='RGB', image_key='c733af0cc4456a4ef76b3140f4994264', image_palette_key=None, image_size=(800, 400))"
      ]
     },
     "execution_count": 2,
     "metadata": {},
     "output_type": "execute_result"
    }
   ],
   "source": [
    "kwargs = {\n",
    "    \"downloadUrl\":\"https://jpeg.org/images/jpegsystems-home.jpg\",\n",
    "    \"mediaType\":\"image/jpeg\",\n",
    "}\n",
    "data_resource = client.create_dataresource(**kwargs)\n",
    "\n",
    "data_resource.get()\n"
   ]
  },
  {
   "cell_type": "code",
   "execution_count": null,
   "metadata": {},
   "outputs": [],
   "source": [
    "kwargs = {\n",
    "    \"filterType\": \"filter/crop\",\n",
    "    \"configuration\": {\"crop\": [0, 0, 400, 200]}\n",
    "}\n",
    "\n",
    "data_filter = client.create_filter(**kwargs)\n",
    "data_filter.get()"
   ]
  }
 ],
 "metadata": {
  "kernelspec": {
   "display_name": "Python 3.9.12 ('emmc-otelib')",
   "language": "python",
   "name": "python3"
  },
  "language_info": {
   "codemirror_mode": {
    "name": "ipython",
    "version": 3
   },
   "file_extension": ".py",
   "mimetype": "text/x-python",
   "name": "python",
   "nbconvert_exporter": "python",
   "pygments_lexer": "ipython3",
   "version": "3.9.12"
  },
  "orig_nbformat": 4,
  "vscode": {
   "interpreter": {
    "hash": "42052dcef4110ed36fd37a5e44cabb985cfc65bdd38a0972774867f321a4d9be"
   }
  }
 },
 "nbformat": 4,
 "nbformat_minor": 2
}
