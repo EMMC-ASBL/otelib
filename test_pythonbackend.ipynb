{
 "cells": [
  {
   "cell_type": "code",
   "execution_count": 2,
   "metadata": {},
   "outputs": [],
   "source": [
    "from otelib import OTEClient\n",
    "client = OTEClient('python')\n",
    "\n",
    "\n",
    "from oteapi.plugins import load_strategies\n",
    "load_strategies()"
   ]
  },
  {
   "cell_type": "code",
   "execution_count": 4,
   "metadata": {},
   "outputs": [
    {
     "data": {
      "text/plain": [
       "AttrDict(content={'firstName': 'Joe', 'lastName': 'Jackson', 'gender': 'male', 'age': 28, 'address': {'streetAddress': '101', 'city': 'San Diego', 'state': 'CA'}, 'phoneNumbers': [{'type': 'home', 'number': '7349282382'}]})"
      ]
     },
     "execution_count": 4,
     "metadata": {},
     "output_type": "execute_result"
    }
   ],
   "source": [
    "\n",
    "from otelib.backends.python.dataresource import DataResource\n",
    "\n",
    "expected_result = {'content': {'firstName': 'Joe',\n",
    "                   'lastName': 'Jackson',\n",
    "                   'gender': 'male',\n",
    "                   'age': 28,\n",
    "                   'address': \n",
    "                   {'streetAddress': '101',\n",
    "                    'city': 'San Diego', 'state': 'CA'},\n",
    "                   'phoneNumbers':\n",
    "                    [{'type': 'home', 'number': '7349282382'}]}}\n",
    "\n",
    "data_resource = DataResource('python')\n",
    "\n",
    "# We must first create the resource - getting a resource ID\n",
    "data_resource.create(\n",
    "    downloadUrl=\"https://filesamples.com/samples/code/json/sample2.json\",\n",
    "    mediaType=\"application/json\",\n",
    ")\n",
    "\n",
    "content = data_resource.fetch(session_id=None)\n",
    "#data_resource.fetch(session_id=None)\n",
    "content\n"
   ]
  },
  {
   "cell_type": "code",
   "execution_count": 3,
   "metadata": {},
   "outputs": [
    {
     "data": {
      "text/plain": [
       "{'content': {'firstName': 'Joe',\n",
       "  'lastName': 'Jackson',\n",
       "  'gender': 'male',\n",
       "  'age': 28,\n",
       "  'address': {'streetAddress': '101', 'city': 'San Diego', 'state': 'CA'},\n",
       "  'phoneNumbers': [{'type': 'home', 'number': '7349282382'}]}}"
      ]
     },
     "execution_count": 3,
     "metadata": {},
     "output_type": "execute_result"
    }
   ],
   "source": [
    "kwargs = {\n",
    "    \"downloadUrl\":\"https://jpeg.org/images/jpegsystems-home.jpg\",\n",
    "    \"mediaType\":\"image/jpeg\",\n",
    "}\n",
    "kwargs = {\n",
    "   \"downloadUrl\":\"https://filesamples.com/samples/code/json/sample2.json\",\n",
    "   \"mediaType\":\"application/json\",\n",
    "}\n",
    "data_resource = client.create_dataresource(**kwargs)\n",
    "from otelib.backends.python.dataresource import DataResource\n",
    "\n",
    "data_resource = DataResource('python')\n",
    "data_resource.create(**kwargs)\n",
    "\n",
    "result = '{\"image_size\": [800, 400], \"image_info\": {\"jfif\": 257, \"jfif_version\": [1, 1], \"dpi\": [72, 72], \"jfif_unit\": 1, \"jfif_density\": [72, 72], \"progressive\": 1, \"progression\": 1}, \"image_key\": \"c733af0cc4456a4ef76b3140f4994264\", \"image_mode\": \"RGB\", \"image_palette_key\": null}'\n",
    "expected_result = {'image_size': [800, 400],\n",
    " 'image_info': {'jfif': 257,\n",
    "  'jfif_version': [1, 1],\n",
    "  'dpi': [72, 72],\n",
    "  'jfif_unit': 1,\n",
    "  'jfif_density': [72, 72],\n",
    "  'progressive': 1,\n",
    "  'progression': 1},\n",
    " 'image_key': 'c733af0cc4456a4ef76b3140f4994264',\n",
    " 'image_mode': 'RGB',\n",
    " 'image_palette_key': None}\n",
    "import json \n",
    "#assert expected_result ==\n",
    "json.loads(data_resource.get().json())"
   ]
  },
  {
   "cell_type": "code",
   "execution_count": 2,
   "metadata": {},
   "outputs": [
    {
     "ename": "ValidationError",
     "evalue": "1 validation error for FunctionConfig\nfunctionType\n  field required (type=value_error.missing)",
     "output_type": "error",
     "traceback": [
      "\u001b[0;31m---------------------------------------------------------------------------\u001b[0m",
      "\u001b[0;31mValidationError\u001b[0m                           Traceback (most recent call last)",
      "\u001b[1;32m/home/daniel/RnD/EMMC/OTELib-Issue52/otelib/test_pythonbackend.ipynb Cell 4\u001b[0m in \u001b[0;36m<cell line: 4>\u001b[0;34m()\u001b[0m\n\u001b[1;32m      <a href='vscode-notebook-cell://wsl%2Bubuntu/home/daniel/RnD/EMMC/OTELib-Issue52/otelib/test_pythonbackend.ipynb#W3sdnNjb2RlLXJlbW90ZQ%3D%3D?line=0'>1</a>\u001b[0m \u001b[39mfrom\u001b[39;00m \u001b[39motelib\u001b[39;00m\u001b[39m.\u001b[39;00m\u001b[39mbackends\u001b[39;00m\u001b[39m.\u001b[39;00m\u001b[39mpython\u001b[39;00m\u001b[39m.\u001b[39;00m\u001b[39mfunction\u001b[39;00m \u001b[39mimport\u001b[39;00m Function\n\u001b[1;32m      <a href='vscode-notebook-cell://wsl%2Bubuntu/home/daniel/RnD/EMMC/OTELib-Issue52/otelib/test_pythonbackend.ipynb#W3sdnNjb2RlLXJlbW90ZQ%3D%3D?line=2'>3</a>\u001b[0m function \u001b[39m=\u001b[39m Function(\u001b[39m'\u001b[39m\u001b[39mpython\u001b[39m\u001b[39m'\u001b[39m)\n\u001b[0;32m----> <a href='vscode-notebook-cell://wsl%2Bubuntu/home/daniel/RnD/EMMC/OTELib-Issue52/otelib/test_pythonbackend.ipynb#W3sdnNjb2RlLXJlbW90ZQ%3D%3D?line=3'>4</a>\u001b[0m function\u001b[39m.\u001b[39;49mcreate()\n",
      "File \u001b[0;32m~/RnD/EMMC/OTELib-Issue52/otelib/otelib/backends/python/function.py:17\u001b[0m, in \u001b[0;36mFunction.create\u001b[0;34m(self, **kwargs)\u001b[0m\n\u001b[1;32m     15\u001b[0m \u001b[39mdef\u001b[39;00m \u001b[39mcreate\u001b[39m(\u001b[39mself\u001b[39m, \u001b[39m*\u001b[39m\u001b[39m*\u001b[39mkwargs) \u001b[39m-\u001b[39m\u001b[39m>\u001b[39m \u001b[39mNone\u001b[39;00m:\n\u001b[1;32m     16\u001b[0m     session_id \u001b[39m=\u001b[39m kwargs\u001b[39m.\u001b[39mpop(\u001b[39m\"\u001b[39m\u001b[39msession_id\u001b[39m\u001b[39m\"\u001b[39m, \u001b[39mNone\u001b[39;00m)\n\u001b[0;32m---> 17\u001b[0m     data \u001b[39m=\u001b[39m FunctionConfig(\u001b[39m*\u001b[39;49m\u001b[39m*\u001b[39;49mkwargs)\n\u001b[1;32m     19\u001b[0m     resource_id \u001b[39m=\u001b[39m \u001b[39m'\u001b[39m\u001b[39mfunction-\u001b[39m\u001b[39m'\u001b[39m\u001b[39m+\u001b[39m\u001b[39mstr\u001b[39m(uuid4())\n\u001b[1;32m     20\u001b[0m     \u001b[39mself\u001b[39m\u001b[39m.\u001b[39mid \u001b[39m=\u001b[39m resource_id\n",
      "File \u001b[0;32m~/virtualenvs/emmc-otelib/lib/python3.9/site-packages/pydantic/main.py:341\u001b[0m, in \u001b[0;36mpydantic.main.BaseModel.__init__\u001b[0;34m()\u001b[0m\n",
      "\u001b[0;31mValidationError\u001b[0m: 1 validation error for FunctionConfig\nfunctionType\n  field required (type=value_error.missing)"
     ]
    }
   ],
   "source": [
    "from otelib.backends.python.function import Function\n",
    "\n",
    "function = Function('python')\n",
    "function.create()"
   ]
  },
  {
   "cell_type": "code",
   "execution_count": 5,
   "metadata": {},
   "outputs": [
    {
     "data": {
      "text/plain": [
       "AttrDict(content={'firstName': 'Joe', 'lastName': 'Jackson', 'gender': 'male', 'age': 28, 'address': {'streetAddress': '101', 'city': 'San Diego', 'state': 'CA'}, 'phoneNumbers': [{'type': 'home', 'number': '7349282382'}]})"
      ]
     },
     "execution_count": 5,
     "metadata": {},
     "output_type": "execute_result"
    }
   ],
   "source": [
    "data_resource.get()"
   ]
  },
  {
   "cell_type": "code",
   "execution_count": 18,
   "metadata": {},
   "outputs": [
    {
     "data": {
      "text/plain": [
       "AttrDict()"
      ]
     },
     "execution_count": 18,
     "metadata": {},
     "output_type": "execute_result"
    }
   ],
   "source": [
    "kwargs = {\n",
    "    \"filterType\": \"filter/crop\",\n",
    "    \"configuration\": {\"crop\": [0, 0, 400, 200]}\n",
    "}\n",
    "\n",
    "data_filter = client.create_filter(**kwargs)\n",
    "data_filter.get()"
   ]
  },
  {
   "cell_type": "code",
   "execution_count": 19,
   "metadata": {},
   "outputs": [
    {
     "data": {
      "text/plain": [
       "AttrDict()"
      ]
     },
     "execution_count": 19,
     "metadata": {},
     "output_type": "execute_result"
    }
   ],
   "source": [
    " kwargs = {'mappingType':'triples'}\n",
    " mapping = client.create_mapping(\n",
    "    **kwargs\n",
    " )\n",
    "\n",
    " mapping.get()"
   ]
  },
  {
   "cell_type": "code",
   "execution_count": 24,
   "metadata": {},
   "outputs": [
    {
     "ename": "KeyError",
     "evalue": "'filter-c37cb2e6-ce51-4670-8225-ab8d0d3dc08a'",
     "output_type": "error",
     "traceback": [
      "\u001b[0;31m---------------------------------------------------------------------------\u001b[0m",
      "\u001b[0;31mKeyError\u001b[0m                                  Traceback (most recent call last)",
      "\u001b[1;32m/home/daniel/RnD/EMMC/OTELib-Issue52/otelib/test_pythonbackend.ipynb Cell 5\u001b[0m in \u001b[0;36m<cell line: 2>\u001b[0;34m()\u001b[0m\n\u001b[1;32m      <a href='vscode-notebook-cell://wsl%2Bubuntu/home/daniel/RnD/EMMC/OTELib-Issue52/otelib/test_pythonbackend.ipynb#W3sdnNjb2RlLXJlbW90ZQ%3D%3D?line=0'>1</a>\u001b[0m pipe \u001b[39m=\u001b[39m  data_resource \u001b[39m>>\u001b[39m mapping \u001b[39m>>\u001b[39m data_filter\n\u001b[0;32m----> <a href='vscode-notebook-cell://wsl%2Bubuntu/home/daniel/RnD/EMMC/OTELib-Issue52/otelib/test_pythonbackend.ipynb#W3sdnNjb2RlLXJlbW90ZQ%3D%3D?line=1'>2</a>\u001b[0m pipe\u001b[39m.\u001b[39;49minitialize(\u001b[39m'\u001b[39;49m\u001b[39ma\u001b[39;49m\u001b[39m'\u001b[39;49m)\n\u001b[1;32m      <a href='vscode-notebook-cell://wsl%2Bubuntu/home/daniel/RnD/EMMC/OTELib-Issue52/otelib/test_pythonbackend.ipynb#W3sdnNjb2RlLXJlbW90ZQ%3D%3D?line=2'>3</a>\u001b[0m pipe\u001b[39m.\u001b[39mget()\n\u001b[1;32m      <a href='vscode-notebook-cell://wsl%2Bubuntu/home/daniel/RnD/EMMC/OTELib-Issue52/otelib/test_pythonbackend.ipynb#W3sdnNjb2RlLXJlbW90ZQ%3D%3D?line=3'>4</a>\u001b[0m \u001b[39mprint\u001b[39m(\u001b[39mlen\u001b[39m(pipe\u001b[39m.\u001b[39mcache))\n",
      "File \u001b[0;32m~/RnD/EMMC/OTELib-Issue52/otelib/otelib/backends/python/filter.py:49\u001b[0m, in \u001b[0;36mFilter.initialize\u001b[0;34m(self, session_id)\u001b[0m\n\u001b[1;32m     46\u001b[0m \u001b[39mdef\u001b[39;00m \u001b[39minitialize\u001b[39m(\u001b[39mself\u001b[39m, session_id: \u001b[39mstr\u001b[39m) \u001b[39m-\u001b[39m\u001b[39m>\u001b[39m \u001b[39mbytes\u001b[39m:\n\u001b[1;32m     47\u001b[0m     resource_id \u001b[39m=\u001b[39m \u001b[39mself\u001b[39m\u001b[39m.\u001b[39mid\n\u001b[0;32m---> 49\u001b[0m     config \u001b[39m=\u001b[39m FilterConfig(\u001b[39m*\u001b[39m\u001b[39m*\u001b[39mjson\u001b[39m.\u001b[39mloads(\u001b[39mself\u001b[39;49m\u001b[39m.\u001b[39;49mcache[resource_id]))\n\u001b[1;32m     50\u001b[0m     \u001b[39mif\u001b[39;00m session_id:\n\u001b[1;32m     51\u001b[0m         session_data \u001b[39m=\u001b[39m \u001b[39mself\u001b[39m\u001b[39m.\u001b[39mcache[session_id]\n",
      "\u001b[0;31mKeyError\u001b[0m: 'filter-c37cb2e6-ce51-4670-8225-ab8d0d3dc08a'"
     ]
    }
   ],
   "source": [
    "pipe =  data_resource >> mapping >> data_filter\n",
    "pipe.get()\n",
    "print(len(pipe.cache))"
   ]
  }
 ],
 "metadata": {
  "kernelspec": {
   "display_name": "otelib",
   "language": "python",
   "name": "python3"
  },
  "language_info": {
   "codemirror_mode": {
    "name": "ipython",
    "version": 3
   },
   "file_extension": ".py",
   "mimetype": "text/x-python",
   "name": "python",
   "nbconvert_exporter": "python",
   "pygments_lexer": "ipython3",
   "version": "3.9.16"
  },
  "orig_nbformat": 4,
  "vscode": {
   "interpreter": {
    "hash": "95bd1fa05ea0cac02848e520456f513154fd5bfe3d84e175c37cde7b8b48156c"
   }
  }
 },
 "nbformat": 4,
 "nbformat_minor": 2
}
