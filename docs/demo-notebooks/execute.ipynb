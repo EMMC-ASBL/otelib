{
 "cells": [
  {
   "cell_type": "code",
   "execution_count": 1,
   "id": "660e7362",
   "metadata": {},
   "outputs": [],
   "source": [
    "%load_ext autoreload\n",
    "%autoreload 2\n",
    "\n",
    "from otelib import OTEClient\n",
    "\n",
    "URL = \"http://localhost:8080\"\n",
    "\n",
    "# Connect to the server at URL\n",
    "client = OTEClient(URL)"
   ]
  },
  {
   "cell_type": "code",
   "execution_count": null,
   "id": "1fd7159c",
   "metadata": {},
   "outputs": [],
   "source": [
    "# Create a data resource\n",
    "data_resource = client.create_dataresource(\n",
    "    downloadUrl=\"https://jpeg.org/images/jpegsystems-home.jpg\",\n",
    "    mediaType=\"image/jpeg\",\n",
    ")\n",
    "\n",
    "print(data_resource)\n",
    "print(data_resource.id)\n",
    "print(data_resource.get())"
   ]
  },
  {
   "cell_type": "code",
   "execution_count": null,
   "id": "ab07106b",
   "metadata": {},
   "outputs": [],
   "source": [
    "# Create a filter\n",
    "data_filter = client.create_filter(\n",
    "    filterType=\"filter/demo\"\n",
    ")\n",
    "print(data_filter)\n",
    "print(data_filter.id)\n",
    "print(data_filter.get())"
   ]
  },
  {
   "cell_type": "code",
   "execution_count": null,
   "id": "9745c42d",
   "metadata": {},
   "outputs": [],
   "source": [
    "# Create a transformation\n",
    "transformation = client.create_transformation(\n",
    "    transformation_type= \"script/dummy\"\n",
    ")\n",
    "\n",
    "print(transformation)\n",
    "print(transformation.id)\n",
    "print(transformation.get())"
   ]
  },
  {
   "cell_type": "code",
   "execution_count": null,
   "id": "6fbfba5b",
   "metadata": {},
   "outputs": [],
   "source": [
    "# Create a mapping\n",
    "mapping = client.create_mapping(\n",
    "    mappingType=\"mapping/demo\"\n",
    ")\n",
    "\n",
    "print(mapping)\n",
    "print(mapping.id)\n",
    "print(mapping.get())"
   ]
  },
  {
   "cell_type": "code",
   "execution_count": null,
   "id": "c8913de2",
   "metadata": {},
   "outputs": [],
   "source": [
    "pipeline = data_resource >> data_filter >> transformation\n",
    "\n",
    "print(pipeline.get())"
   ]
  },
  {
   "cell_type": "code",
   "execution_count": null,
   "id": "b15f64d6",
   "metadata": {},
   "outputs": [],
   "source": [
    "pipeline = data_resource >> data_filter >> mapping >> transformation\n",
    "\n",
    "pipeline.get()"
   ]
  }
 ],
 "metadata": {
  "kernelspec": {
   "display_name": "Python 3 (ipykernel)",
   "language": "python",
   "name": "python3"
  },
  "language_info": {
   "codemirror_mode": {
    "name": "ipython",
    "version": 3
   },
   "file_extension": ".py",
   "mimetype": "text/x-python",
   "name": "python",
   "nbconvert_exporter": "python",
   "pygments_lexer": "ipython3",
   "version": "3.9.4"
  }
 },
 "nbformat": 4,
 "nbformat_minor": 5
}
