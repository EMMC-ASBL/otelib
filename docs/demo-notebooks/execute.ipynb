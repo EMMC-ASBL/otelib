{
 "cells": [
  {
   "cell_type": "code",
   "execution_count": 1,
   "id": "660e7362",
   "metadata": {},
   "outputs": [],
   "source": [
    "%load_ext autoreload\n",
    "%autoreload 2\n",
    "\n",
    "from otelib.server import Server\n",
    "# Connect to the Server ..\n",
    "OTEServer = Server('http://localhost:8000/api/v1')\n",
    "# OTEServer = Server('http://localhost/api/v1')"
   ]
  },
  {
   "cell_type": "code",
   "execution_count": null,
   "id": "1fd7159c",
   "metadata": {},
   "outputs": [],
   "source": [
    "# Create a dataResource .. \n",
    "# dataResource = server.create_dataresource(downloadUrl=\"https://jpeg.org/images/jpegsystems-home.jpg\", mediaType=\"image/jpeg\",configuration={\"crop\": \"0,0,200,200\"})\n",
    "dataResource = OTEServer.create_dataresource(downloadUrl=\"https://jpeg.org/images/jpegsystems-home.jpg\", mediaType=\"image/jpeg\")\n",
    "print(dataResource)\n",
    "print(dataResource.id)\n",
    "print(dataResource.data)"
   ]
  },
  {
   "cell_type": "code",
   "execution_count": null,
   "id": "ab07106b",
   "metadata": {},
   "outputs": [],
   "source": [
    "# Create a Filter .. \n",
    "dataFilter = OTEServer.create_filter(filterType=\"filter/compevo-crop\",configuration={\"crop\": [0,0,200,200]})\n",
    "# dataFilter = server.create_filter(filterType=\"filter/demo\")\n",
    "print(dataFilter)\n",
    "print(dataFilter.id)\n",
    "print(dataFilter.data)"
   ]
  },
  {
   "cell_type": "code",
   "execution_count": null,
   "id": "9745c42d",
   "metadata": {},
   "outputs": [],
   "source": [
    "# Create a Transformation .. \n",
    "transformation = OTEServer.create_transformation(transformation_type= \"script/dummy\")\n",
    "# transformation = server.create_transformation(transformation_type= \"dlite/transformation\")\n",
    "print(transformation)\n",
    "print(transformation.id)\n",
    "print(transformation.data)"
   ]
  },
  {
   "cell_type": "code",
   "execution_count": null,
   "id": "6fbfba5b",
   "metadata": {},
   "outputs": [],
   "source": [
    "# Create a Mapping .. \n",
    "mapping = OTEServer.create_mapping(mappingType=\"mapping/demo\")\n",
    "print(mapping)\n",
    "print(mapping.id)\n",
    "print(mapping.data)"
   ]
  },
  {
   "cell_type": "code",
   "execution_count": null,
   "id": "c8913de2",
   "metadata": {},
   "outputs": [],
   "source": [
    "pipeline = dataResource  >> dataFilter  >> transformation\n",
    "# print(pipeline)\n",
    "print(pipeline.get())"
   ]
  },
  {
   "cell_type": "code",
   "execution_count": null,
   "id": "b15f64d6",
   "metadata": {},
   "outputs": [],
   "source": [
    "pipeline = dataResource  >> dataFilter  >> mapping >> transformation \n",
    "pipeline.get()"
   ]
  }
 ],
 "metadata": {
  "kernelspec": {
   "display_name": "Python 3 (ipykernel)",
   "language": "python",
   "name": "python3"
  },
  "language_info": {
   "codemirror_mode": {
    "name": "ipython",
    "version": 3
   },
   "file_extension": ".py",
   "mimetype": "text/x-python",
   "name": "python",
   "nbconvert_exporter": "python",
   "pygments_lexer": "ipython3",
   "version": "3.9.4"
  }
 },
 "nbformat": 4,
 "nbformat_minor": 5
}
