{
 "cells": [
  {
   "cell_type": "code",
   "execution_count": 1,
   "id": "0cfa9457",
   "metadata": {},
   "outputs": [],
   "source": [
    "%load_ext autoreload\n",
    "%autoreload 2\n"
   ]
  },
  {
   "cell_type": "code",
   "execution_count": 16,
   "id": "ea66946f",
   "metadata": {},
   "outputs": [],
   "source": [
    "# Connect to the OntoTransServer ..\n",
    "from otelib.ontotransserver import OntoTransServer\n",
    "# server = OntoTransServer('http://localhost:8000/api/v1')\n",
    "server = OntoTransServer('<OTEAPI_ENDPOINT>') "
   ]
  },
  {
   "cell_type": "code",
   "execution_count": null,
   "id": "d1bb16fd",
   "metadata": {},
   "outputs": [],
   "source": [
    "from IPython.display import Image\n",
    "Image(\"./../img/pipeline.jpg\")"
   ]
  },
  {
   "cell_type": "code",
   "execution_count": 14,
   "id": "ed46ed74",
   "metadata": {},
   "outputs": [],
   "source": [
    "# Instantiate Download Image strategy\n",
    "downloadImage = server.create_dataresource(downloadUrl=\"https://gitlab.cc-asp.fraunhofer.de/api/v4/projects/20644/repository/files/batch1-3_40x.jpg/raw?ref=master&private_token=<GITLAB_ACCESS_TOKEN>\", mediaType=\"image/jpg\")\n",
    "\n",
    "# Instantiate Store Image strategy \n",
    "storeImage = server.create_filter(filterType=\"filter/compevo-store\")\n",
    "\n",
    "# Instantiate Mapping strategy \n",
    "mapping = server.create_mapping(mappingType=\"mapping/compevo-map\",configuration={\"use_case\": 'CompEvo','image_type':'image/jpeg','image_description':'Pores'})\n",
    "\n",
    "# Instantiate crop filter strategy \n",
    "cropFilter = server.create_filter(filterType=\"filter/compevo-crop\",configuration={\"crop\": \"440,8056,668,1640\"})\n",
    "\n",
    "# Instantiate wrapPorefraction Transformation strategy \n",
    "wrapPorefractionTransformation = server.create_transformation(transformation_type= \"dlite/compevo-wrap-porefraction\")\n",
    "\n",
    "# Instantiate getResult strategy \n",
    "getResult = server.create_transformation(transformation_type= \"dlite/compevo-result\")"
   ]
  },
  {
   "cell_type": "code",
   "execution_count": null,
   "id": "1e702610",
   "metadata": {},
   "outputs": [],
   "source": [
    "# Build a pipeline\n",
    "pipeline = downloadImage >> storeImage >> mapping  >> cropFilter >> wrapPorefractionTransformation >> getResult\n",
    "\n",
    "#Excecute a pipline and print result\n",
    "print(pipeline.get())"
   ]
  }
 ],
 "metadata": {
  "kernelspec": {
   "display_name": "Python 3 (ipykernel)",
   "language": "python",
   "name": "python3"
  },
  "language_info": {
   "codemirror_mode": {
    "name": "ipython",
    "version": 3
   },
   "file_extension": ".py",
   "mimetype": "text/x-python",
   "name": "python",
   "nbconvert_exporter": "python",
   "pygments_lexer": "ipython3",
   "version": "3.9.4"
  }
 },
 "nbformat": 4,
 "nbformat_minor": 5
}
